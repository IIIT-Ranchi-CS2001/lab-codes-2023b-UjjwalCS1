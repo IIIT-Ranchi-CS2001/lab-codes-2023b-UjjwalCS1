{
 "cells": [
  {
   "cell_type": "markdown",
   "id": "526f3ffd-58a9-497c-9add-3431f1039ee0",
   "metadata": {},
   "source": [
    "\n",
    "**1.Write a program to find the Sum, Difference, Product,Integer quotient,Remainder,Fractional quotient of two numbers. Enter the numbers on run time. Display the input data and results in neat format**\n"
   ]
  },
  {
   "cell_type": "code",
   "execution_count": 1,
   "id": "af3e4331-bf88-4176-9b19-4446f2bbea09",
   "metadata": {},
   "outputs": [
    {
     "name": "stdout",
     "output_type": "stream",
     "text": [
      "Enter the first number:  29\n",
      "Enter the second number:  12\n"
     ]
    },
    {
     "name": "stdout",
     "output_type": "stream",
     "text": [
      "\n",
      "Results:\n",
      "Sum: 41.0\n",
      "Difference: 17.0\n",
      "Product: 348.0\n",
      "Integer Quotient: 2\n",
      "Remainder: 5.0\n",
      "Fractional Quotient: 2.4166666666666665\n"
     ]
    }
   ],
   "source": [
    "num1 = float(input(\"Enter the first number: \"))\n",
    "num2 = float(input(\"Enter the second number: \"))\n",
    "\n",
    "sum_result = num1 + num2\n",
    "difference = num1 - num2\n",
    "product = num1 * num2\n",
    "integer_quotient = int(num1 // num2) if num2 != 0 else \"Undefined (division by zero)\"\n",
    "remainder = num1 % num2 if num2 != 0 else \"Undefined (division by zero)\"\n",
    "fractional_quotient = num1 / num2 if num2 != 0 else \"Undefined (division by zero)\"\n",
    "\n",
    "print(\"\\nResults:\")\n",
    "print(f\"Sum: {sum_result}\")\n",
    "print(f\"Difference: {difference}\")\n",
    "print(f\"Product: {product}\")\n",
    "print(f\"Integer Quotient: {integer_quotient}\")\n",
    "print(f\"Remainder: {remainder}\")\n",
    "print(f\"Fractional Quotient: {fractional_quotient}\")\n"
   ]
  },
  {
   "cell_type": "markdown",
   "id": "1903b730-af82-46f6-b0e1-ab8d6cf510a8",
   "metadata": {},
   "source": [
    "###\n",
    "**2.Write python program to find\n",
    "(a) Area and perimeter of a triangle when all three sides are given. Hint: (Use Heron’s Equation)\n",
    "(b) Find all three angles of the triangle given in (a)\n",
    "Display the input data and results in proper format.**\n"
   ]
  },
  {
   "cell_type": "code",
   "execution_count": 3,
   "id": "99e0eb66-d70c-4782-b6e9-4e8281eb7723",
   "metadata": {},
   "outputs": [
    {
     "name": "stdout",
     "output_type": "stream",
     "text": [
      "Enter the length of the first side (a):  42\n",
      "Enter the length of the second side (b):  45\n",
      "Enter the length of the third side (c):  60\n"
     ]
    },
    {
     "name": "stdout",
     "output_type": "stream",
     "text": [
      "\n",
      "Area Results:\n",
      "Area of the triangle: 943.82\n",
      "Perimeter of the triangle: 147.00\n",
      "\n",
      "Angle Results:\n",
      "Angle A: 44.36°\n",
      "Angle B: 48.51°\n",
      "Angle C: 87.13°\n"
     ]
    }
   ],
   "source": [
    "import math\n",
    "\n",
    "a = float(input(\"Enter the length of the first side (a): \"))\n",
    "b = float(input(\"Enter the length of the second side (b): \"))\n",
    "c = float(input(\"Enter the length of the third side (c): \"))\n",
    "\n",
    "s = (a + b + c) / 2\n",
    "\n",
    "if s > a and s > b and s > c:\n",
    "    area = math.sqrt(s * (s - a) * (s - b) * (s - c))\n",
    "\n",
    "    perimeter = a + b + c\n",
    "\n",
    "\n",
    "    print(\"\\nArea Results:\")\n",
    "    print(f\"Area of the triangle: {area:.2f}\")\n",
    "    print(f\"Perimeter of the triangle: {perimeter:.2f}\")\n",
    "else:\n",
    "    print(\"\\nThe given sides do not form a valid triangle.\")\n",
    "\n",
    "if a + b > c and a + c > b and b + c > a:\n",
    "\n",
    "    angle_A = math.degrees(math.acos((b**2 + c**2 - a**2) / (2 * b * c)))\n",
    "    angle_B = math.degrees(math.acos((a**2 + c**2 - b**2) / (2 * a * c)))\n",
    "    angle_C = math.degrees(math.acos((a**2 + b**2 - c**2) / (2 * a * b)))\n",
    "    \n",
    "\n",
    "    print(\"\\nAngle Results:\")\n",
    "    print(f\"Angle A: {angle_A:.2f}°\")\n",
    "    print(f\"Angle B: {angle_B:.2f}°\")\n",
    "    print(f\"Angle C: {angle_C:.2f}°\")\n",
    "else:\n",
    "    print(\"\\nThe given sides do not form a valid triangle.\")\n"
   ]
  },
  {
   "cell_type": "markdown",
   "id": "54f17434-af76-4a42-a9e7-4b1c961b304e",
   "metadata": {},
   "source": [
    "3.Write a program to find:\n",
    "The equivalent impedance when two impedances Z1 and Z2 are connected in parallel. \n",
    "Display Z1 and Z2 in complex form. \n",
    "Display the real part and imaginary part of the result in separate lines\n"
   ]
  },
  {
   "cell_type": "code",
   "execution_count": 4,
   "id": "917bd0a3-57af-4f58-9e68-b92d08e55fb8",
   "metadata": {},
   "outputs": [
    {
     "name": "stdout",
     "output_type": "stream",
     "text": [
      "Enter the first impedance Z1 (in the form a+bj):  6+4j\n",
      "Enter the second impedance Z2 (in the form a+bj):  9+3j\n"
     ]
    },
    {
     "name": "stdout",
     "output_type": "stream",
     "text": [
      "\n",
      "Results:\n",
      "Z1: (6+4j)\n",
      "Z2: (9+3j)\n",
      "Equivalent Impedance (Zeq): (3.6788321167883216+1.8832116788321167j)\n",
      "Real Part: 3.68\n",
      "Imaginary Part: 1.88\n"
     ]
    }
   ],
   "source": [
    "\n",
    "Z1 = complex(input(\"Enter the first impedance Z1 (in the form a+bj): \"))\n",
    "Z2 = complex(input(\"Enter the second impedance Z2 (in the form a+bj): \"))\n",
    "\n",
    "\n",
    "if Z1 + Z2 != 0:\n",
    "   \n",
    "    Z_eq = (Z1 * Z2) / (Z1 + Z2)\n",
    "    \n",
    "    \n",
    "    print(\"\\nResults:\")\n",
    "    print(f\"Z1: {Z1}\")\n",
    "    print(f\"Z2: {Z2}\")\n",
    "    print(f\"Equivalent Impedance (Zeq): {Z_eq}\")\n",
    "    print(f\"Real Part: {Z_eq.real:.2f}\")\n",
    "    print(f\"Imaginary Part: {Z_eq.imag:.2f}\")\n",
    "else:\n",
    "    print(\"\\nThe sum of Z1 and Z2 is zero. Equivalent impedance cannot be calculated.\")\n"
   ]
  },
  {
   "cell_type": "code",
   "execution_count": null,
   "id": "a68ec2d0-06b4-432a-b634-fb3ade07b036",
   "metadata": {},
   "outputs": [],
   "source": []
  }
 ],
 "metadata": {
  "kernelspec": {
   "display_name": "Python 3 (ipykernel)",
   "language": "python",
   "name": "python3"
  },
  "language_info": {
   "codemirror_mode": {
    "name": "ipython",
    "version": 3
   },
   "file_extension": ".py",
   "mimetype": "text/x-python",
   "name": "python",
   "nbconvert_exporter": "python",
   "pygments_lexer": "ipython3",
   "version": "3.12.5"
  }
 },
 "nbformat": 4,
 "nbformat_minor": 5
}
