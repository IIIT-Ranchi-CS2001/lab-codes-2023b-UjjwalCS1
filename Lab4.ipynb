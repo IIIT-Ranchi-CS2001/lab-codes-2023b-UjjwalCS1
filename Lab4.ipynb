{
 "cells": [
  {
   "cell_type": "markdown",
   "id": "ba7ae952-b353-4440-9914-ca8895147cc4",
   "metadata": {},
   "source": [
    "**1.Find the number of palindrome words in the given sentence without defining any new function (feel free to use python’s in-built functions).**"
   ]
  },
  {
   "cell_type": "code",
   "execution_count": 2,
   "id": "8eadb941-e709-4344-bd1a-72e3e2cf48fd",
   "metadata": {},
   "outputs": [
    {
     "name": "stdin",
     "output_type": "stream",
     "text": [
      "Enter a sentence:  Madam and her civic friends went to the level racecar event\n"
     ]
    },
    {
     "name": "stdout",
     "output_type": "stream",
     "text": [
      "\n",
      "Number of palindrome words: 4\n"
     ]
    }
   ],
   "source": [
    "# Input sentence\n",
    "sentence = input(\"Enter a sentence: \")\n",
    "\n",
    "# Split sentence into words\n",
    "w=sentence.lower()\n",
    "words = w.split()\n",
    "\n",
    "\n",
    "# Count palindrome words\n",
    "palindrome_count = 0\n",
    "for word in words:\n",
    "    if word == word[::-1]:\n",
    "        palindrome_count += 1\n",
    "\n",
    "print(f\"\\nNumber of palindrome words: {palindrome_count}\")"
   ]
  },
  {
   "cell_type": "markdown",
   "id": "1edcbf07-c45e-4107-afdc-7d88ccf766e9",
   "metadata": {},
   "source": [
    "###\n",
    "**2.Create a list of int using list comprehension [multiple input from keyboard].  Find the mean, median, and mode of the given list (usage of specific modules such as statistics is strictly prohibited. Lab problems are for you to build-up logic and strengthen your understanding of the topic & its concepts)**"
   ]
  },
  {
   "cell_type": "code",
   "execution_count": 3,
   "id": "06de0599-53b1-4bb1-892a-7c1434a4b20c",
   "metadata": {},
   "outputs": [
    {
     "name": "stdin",
     "output_type": "stream",
     "text": [
      "Enter numbers separated by space:  4 6 7 7 9 4 5 2 9\n"
     ]
    },
    {
     "name": "stdout",
     "output_type": "stream",
     "text": [
      "Mean: 5.888888888888889\n",
      "Median: 6\n",
      "Mode: 4\n"
     ]
    }
   ],
   "source": [
    "# Input integers using list comprehension\n",
    "nums = [int(x) for x in input(\"Enter numbers separated by space: \").split()]\n",
    "\n",
    "# 1. Mean Calculation\n",
    "total_sum = 0\n",
    "for num in nums:\n",
    "    total_sum += num\n",
    "mean = total_sum / len(nums)\n",
    "\n",
    "# 2. Median Calculation\n",
    "# Sort the list manually\n",
    "for i in range(len(nums)):\n",
    "    for j in range(i + 1, len(nums)):\n",
    "        if nums[i] > nums[j]:\n",
    "            nums[i], nums[j] = nums[j], nums[i]\n",
    "\n",
    "n = len(nums)\n",
    "if n % 2 == 0:  # Even number of elements\n",
    "    median = (nums[n // 2 - 1] + nums[n // 2]) / 2\n",
    "else:  # Odd number of elements\n",
    "    median = nums[n // 2]\n",
    "\n",
    "# 3. Mode Calculation\n",
    "frequency = {}\n",
    "for num in nums:\n",
    "    if num in frequency:\n",
    "        frequency[num] += 1\n",
    "    else:\n",
    "        frequency[num] = 1\n",
    "\n",
    "max_freq = 0\n",
    "mode = None\n",
    "for key, value in frequency.items():\n",
    "    if value > max_freq:\n",
    "        max_freq = value\n",
    "        mode = key\n",
    "    elif value == max_freq:  # Handle multi-modal case\n",
    "        mode = min(mode, key)\n",
    "\n",
    "# Output results\n",
    "print(f\"Mean: {mean}\")\n",
    "print(f\"Median: {median}\")\n",
    "print(f\"Mode: {mode}\")\n"
   ]
  },
  {
   "cell_type": "markdown",
   "id": "ca565e79-6391-4338-a4fb-64406ba5c4d9",
   "metadata": {},
   "source": [
    "###\n",
    "**3.Generate 2 lists (course code and course name). create a new list with both course code and name like[\"CS1001:Python\",...]**"
   ]
  },
  {
   "cell_type": "code",
   "execution_count": 6,
   "id": "3f5517a5-ee43-4456-8f1e-7ab1adc3049c",
   "metadata": {},
   "outputs": [
    {
     "name": "stdin",
     "output_type": "stream",
     "text": [
      "Enter course code:  MA2001 CS2001 CS2003 CS2005 CS2007\n",
      "Enter course names:  MATH PYTHON COA TOC ALGORITHM\n"
     ]
    },
    {
     "name": "stdout",
     "output_type": "stream",
     "text": [
      "['MA2001: MATH', 'CS2001: PYTHON', 'CS2003: COA', 'CS2005: TOC', 'CS2007: ALGORITHM']\n"
     ]
    }
   ],
   "source": [
    "course=[x for x in input(\"Enter course code: \").split(\" \")]\n",
    "name=[x for x in input(\"Enter course names: \").split(\" \")]\n",
    "combined=[]\n",
    "\n",
    "for i in range(len(course)):\n",
    "    combined.append((f\"{course[i]}: {name[i]}\"))\n",
    "\n",
    "print(combined)"
   ]
  },
  {
   "cell_type": "markdown",
   "id": "70caa290-7479-44ca-9463-079d88432938",
   "metadata": {},
   "source": [
    "###\n",
    "**4. Generate two sets – first for all singers and second for all dancers of the class using set comprehension. Perform set operations to generate the following sets of**\n",
    "   - Find the set of **all artists** in the class.\n",
    "   - Find the set of **allrounders** (both singers and dancers).\n",
    "   - Find the set of **dancers but not singers**.\n",
    "   - Find the set of **singers but not dancers**.\n",
    "   - Find the set of **dancers but not singers union singers but not dancers**.\n",
    "\n",
    "\n"
   ]
  },
  {
   "cell_type": "code",
   "execution_count": 7,
   "id": "5887dbd3-38eb-4d8e-a422-37e8b1484a13",
   "metadata": {},
   "outputs": [
    {
     "name": "stdout",
     "output_type": "stream",
     "text": [
      "\n",
      "Results:\n",
      "All artists: {'Sophia', 'John', 'Raj', 'Emma', 'Liam', 'Mia'}\n",
      "Allrounders: {'Raj', 'Emma'}\n",
      "Dancers but not singers: {'Sophia', 'Liam'}\n",
      "Singers but not dancers: {'John', 'Mia'}\n",
      "Dancers but not singers and singers but not dancers: {'Sophia', 'Mia', 'Liam', 'John'}\n"
     ]
    }
   ],
   "source": [
    "# Input sets for singers and dancers\n",
    "singers = {\"John\", \"Emma\", \"Raj\", \"Mia\"}\n",
    "dancers = {\"Raj\", \"Liam\", \"Emma\", \"Sophia\"}\n",
    "\n",
    "# Set operations\n",
    "all_artists = singers | dancers\n",
    "allrounders = singers & dancers\n",
    "dancers_not_singers = dancers - singers\n",
    "singers_not_dancers = singers - dancers\n",
    "dancers_but_not_singers_and_singers_but_not_dancers = (dancers - singers) | (singers - dancers)\n",
    "\n",
    "print(\"\\nResults:\")\n",
    "print(f\"All artists: {all_artists}\")\n",
    "print(f\"Allrounders: {allrounders}\")\n",
    "print(f\"Dancers but not singers: {dancers_not_singers}\")\n",
    "print(f\"Singers but not dancers: {singers_not_dancers}\")\n",
    "print(f\"Dancers but not singers and singers but not dancers: {dancers_but_not_singers_and_singers_but_not_dancers}\")\n"
   ]
  },
  {
   "cell_type": "code",
   "execution_count": null,
   "id": "6f75d2fd-cfc3-4ef9-a1f2-be0bf3d34962",
   "metadata": {},
   "outputs": [],
   "source": []
  }
 ],
 "metadata": {
  "kernelspec": {
   "display_name": "Python 3 (ipykernel)",
   "language": "python",
   "name": "python3"
  },
  "language_info": {
   "codemirror_mode": {
    "name": "ipython",
    "version": 3
   },
   "file_extension": ".py",
   "mimetype": "text/x-python",
   "name": "python",
   "nbconvert_exporter": "python",
   "pygments_lexer": "ipython3",
   "version": "3.12.5"
  }
 },
 "nbformat": 4,
 "nbformat_minor": 5
}
