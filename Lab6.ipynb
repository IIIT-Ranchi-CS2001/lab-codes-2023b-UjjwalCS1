{
 "cells": [
  {
   "cell_type": "markdown",
   "id": "b03531dd-fbf3-4fe0-9a83-a4a9b6754459",
   "metadata": {},
   "source": [
    "**Question 1: Define a Function `my_zip()`**\n",
    "**Define a function `my_zip()` that can form a list of tuples by iterating over the following customer details:**\n",
    "**- `customer Name`, `customer ID`, `shopping points`**\n",
    "\n",
    "The function should have a keyword parameter `strct`. Based on the value of `strct`:\n",
    "- If `strct = True`: Zipping shall be done only if all lists are of equal length.\n",
    "- If `strct = False`: Zipping can be done by taking the minimum length of the iterables.\n",
    "\n",
    "---\n",
    "\n",
    "**Question 2: Define a Function `my_sort()`**\n",
    "Define a function `my_sort()` to sort the list of tuples created using the `my_zip()` function. The function must include two arguments:\n",
    "- **The list**: This carries the data to be sorted.\n",
    "- **The key**: Determines the argument for sorting.\n",
    "\n",
    "Sorting must be performed based on the value of the `key`:\n",
    "- `key = 0`: Sort based on `customer name` in ascending order.\n",
    "- `key = 1`: Sort based on `customer ID`.\n",
    "- `key = 2`: Sort based on `shopping points`.\n",
    "\n",
    "**Note:** The usage of the built-in function `sorted()` is not allowed.\n"
   ]
  },
  {
   "cell_type": "code",
   "execution_count": 1,
   "id": "522de42f-8852-422e-a10c-d7ccc4cf2fa7",
   "metadata": {},
   "outputs": [
    {
     "name": "stdin",
     "output_type": "stream",
     "text": [
      "Enter customer names separated by space:  Ujjwal Rohan Anushka Mahi Sachin\n",
      "Enter customer IDs separated by space:  201 205 310 110 050\n",
      "Enter shopping points separated by space:  250 950 750 600 400\n",
      "Do you want to strictly check list lengths (True/False)?  True\n"
     ]
    },
    {
     "name": "stdout",
     "output_type": "stream",
     "text": [
      "Zipped List: [('Ujjwal', '201', 250), ('Rohan', '205', 950), ('Anushka', '310', 750), ('Mahi', '110', 600), ('Sachin', '050', 400)]\n"
     ]
    },
    {
     "name": "stdin",
     "output_type": "stream",
     "text": [
      "Enter sorting key (0 for name, 1 for ID, 2 for points):  0\n"
     ]
    },
    {
     "name": "stdout",
     "output_type": "stream",
     "text": [
      "Sorted List: [('Anushka', '310', 750), ('Mahi', '110', 600), ('Rohan', '205', 950), ('Sachin', '050', 400), ('Ujjwal', '201', 250)]\n"
     ]
    }
   ],
   "source": [
    "def my_zip(names, ids, points, strct=True):\n",
    "    # Check if strct is True: zip only if all lists are of equal length\n",
    "    if strct:\n",
    "        if len(names) == len(ids) == len(points):\n",
    "            # Perform zipping\n",
    "            zipped_list = [(name, cid, point) for name, cid, point in zip(names, ids, points)]\n",
    "        else:\n",
    "            raise ValueError(\"Error: All lists must have the same length when strct=True.\")\n",
    "    else:\n",
    "        # Perform zipping based on the minimum length of the lists\n",
    "        min_length = min(len(names), len(ids), len(points))\n",
    "        zipped_list = [(names[i], ids[i], points[i]) for i in range(min_length)]\n",
    "\n",
    "    return zipped_list\n",
    "\n",
    "def my_sort(zipped_list, key):\n",
    "    # Implementing bubble sort for sorting based on the key argument\n",
    "    for i in range(len(zipped_list)):\n",
    "        for j in range(i + 1, len(zipped_list)):\n",
    "            # Select the sorting criteria based on the key\n",
    "            if key == 0:  # Sort based on customer name (index 0)\n",
    "                if zipped_list[i][0] > zipped_list[j][0]:\n",
    "                    zipped_list[i], zipped_list[j] = zipped_list[j], zipped_list[i]\n",
    "            elif key == 1:  # Sort based on customer ID (index 1)\n",
    "                if zipped_list[i][1] > zipped_list[j][1]:\n",
    "                    zipped_list[i], zipped_list[j] = zipped_list[j], zipped_list[i]\n",
    "            elif key == 2:  # Sort based on shopping points (index 2)\n",
    "                if zipped_list[i][2] > zipped_list[j][2]:\n",
    "                    zipped_list[i], zipped_list[j] = zipped_list[j], zipped_list[i]\n",
    "    return zipped_list\n",
    "\n",
    "# Example usage\n",
    "customer_names = input(\"Enter customer names separated by space: \").split()\n",
    "customer_ids = input(\"Enter customer IDs separated by space: \").split()\n",
    "shopping_points = list(map(int, input(\"Enter shopping points separated by space: \").split()))\n",
    "\n",
    "strct = input(\"Do you want to strictly check list lengths (True/False)? \").lower() == 'true'\n",
    "\n",
    "# Call the my_zip function\n",
    "try:\n",
    "    zipped_list = my_zip(customer_names, customer_ids, shopping_points, strct)\n",
    "    print(\"Zipped List:\", zipped_list)\n",
    "\n",
    "    # Ask user for sorting key\n",
    "    key = int(input(\"Enter sorting key (0 for name, 1 for ID, 2 for points): \"))\n",
    "    sorted_list = my_sort(zipped_list, key)\n",
    "    print(\"Sorted List:\", sorted_list)\n",
    "except ValueError as e:\n",
    "    print(e)\n"
   ]
  },
  {
   "cell_type": "markdown",
   "id": "a012ded5-8d9b-470c-95b5-77ab4cb1bd0a",
   "metadata": {},
   "source": [
    "###\n",
    "**Question 3: Define a Function `my_max()`**\n",
    "Write a Python program to define a function `my_max()` to complete the following tasks:  \n",
    "\n",
    "**Rules:**  \n",
    "- The usage of the built-in function `max()` is **strictly prohibited**.\n",
    "\n",
    "**Function Requirements:**  \n",
    "1. If a **list of integers** is passed as the input argument, the function shall return the maximum value present in the list.  \n",
    "2. If a **set** is passed, the function shall return the maximum value present in the set.  \n",
    "3. If a **tuple** is passed, the function shall return the maximum value present in the tuple.\n"
   ]
  },
  {
   "cell_type": "code",
   "execution_count": 2,
   "id": "feca5d78-1cd5-4aa0-ba3b-a7197478b8d6",
   "metadata": {},
   "outputs": [
    {
     "name": "stdout",
     "output_type": "stream",
     "text": [
      "Max value in list: 78\n",
      "Max value in set: 78\n",
      "Max value in tuple: 78\n"
     ]
    }
   ],
   "source": [
    "def my_max(data):\n",
    "    # Check if the data is a list, set, or tuple\n",
    "    if isinstance(data, (list, set, tuple)):\n",
    "        # Initialize a variable to keep track of the maximum value\n",
    "        max_value = None\n",
    "        \n",
    "        # Iterate through the data to find the maximum value\n",
    "        for item in data:\n",
    "            # If max_value is None or item is greater than max_value, update max_value\n",
    "            if max_value is None or item > max_value:\n",
    "                max_value = item\n",
    "        \n",
    "        return max_value\n",
    "    else:\n",
    "        raise TypeError(\"Input must be a list, set, or tuple\")\n",
    "\n",
    "# Example usage\n",
    "try:\n",
    "    # Test with list\n",
    "    num_list = [12, 45, 78, 23, 56]\n",
    "    print(\"Max value in list:\", my_max(num_list))\n",
    "\n",
    "    # Test with set\n",
    "    num_set = {12, 45, 78, 23, 56}\n",
    "    print(\"Max value in set:\", my_max(num_set))\n",
    "\n",
    "    # Test with tuple\n",
    "    num_tuple = (12, 45, 78, 23, 56)\n",
    "    print(\"Max value in tuple:\", my_max(num_tuple))\n",
    "    \n",
    "except TypeError as e:\n",
    "    print(e)\n"
   ]
  },
  {
   "cell_type": "markdown",
   "id": "e7db0a60-88ef-4c5e-ae7f-0919de39f69f",
   "metadata": {},
   "source": [
    "###\n",
    "**Question 4: Python Script Using `map`, `lambda`, and `filter`**\n",
    "Write a Python script using `map`, `lambda`, and `filter` functions to perform the following operations on a user-inputted comma-separated string.  \n",
    "\n",
    "**Example Input:**  \n",
    "`\"Tom 25 Rahu22 2@$\"`\n",
    "\n",
    "\n",
    "Tasks:\n",
    "1. **Find all the letters in the string and convert them to uppercase.**  \n",
    "   **Output:** `['TOM']`\n",
    "   \n",
    "2. **Find all the digits present in the string and calculate their squares.**  \n",
    "   **Output:** `[625]`\n",
    "   \n",
    "3. **Display all the alphanumeric characters present in the string.**  \n",
    "   **Output:** `[\"Tom\", '25', \"Rahu22\"]`\n"
   ]
  },
  {
   "cell_type": "code",
   "execution_count": 4,
   "id": "2ebc66e4-0f2b-4706-b3b5-f9e0f4b73b71",
   "metadata": {},
   "outputs": [
    {
     "name": "stdout",
     "output_type": "stream",
     "text": [
      "Uppercase letters: ['TOM']\n",
      "Squares of digits: [625]\n",
      "Alphanumeric strings: ['Tom', '25', 'Rahu22']\n"
     ]
    }
   ],
   "source": [
    "# Get user input\n",
    "input_str = \"Tom 25 Rahu22 2@$\"\n",
    "\n",
    "# Split the input string into separate elements by spaces\n",
    "input_list = input_str.split()\n",
    "\n",
    "# Task 1: Find all the letters and convert them to uppercase\n",
    "letters = list(filter(lambda x: x.isalpha(), input_list))\n",
    "uppercase_letters = list(map(lambda x: x.upper(), letters))\n",
    "print(\"Uppercase letters:\", uppercase_letters)\n",
    "\n",
    "# Task 2: Find all the digits and return their squares\n",
    "digits = list(filter(lambda x: x.isdigit(), input_list))\n",
    "squared_digits = list(map(lambda x: int(x) ** 2, digits))\n",
    "print(\"Squares of digits:\", squared_digits)\n",
    "\n",
    "# Task 3: Display all alphanumeric characters\n",
    "alphanumeric = list(filter(lambda x: x.isalnum(), input_list))\n",
    "print(\"Alphanumeric strings:\", alphanumeric)\n"
   ]
  }
 ],
 "metadata": {
  "kernelspec": {
   "display_name": "Python 3 (ipykernel)",
   "language": "python",
   "name": "python3"
  },
  "language_info": {
   "codemirror_mode": {
    "name": "ipython",
    "version": 3
   },
   "file_extension": ".py",
   "mimetype": "text/x-python",
   "name": "python",
   "nbconvert_exporter": "python",
   "pygments_lexer": "ipython3",
   "version": "3.12.5"
  }
 },
 "nbformat": 4,
 "nbformat_minor": 5
}
