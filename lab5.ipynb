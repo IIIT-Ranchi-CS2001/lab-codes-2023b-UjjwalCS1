{
 "cells": [
  {
   "cell_type": "markdown",
   "id": "dc8eb528-63df-43e8-ac16-c6d1a25f950b",
   "metadata": {},
   "source": [
    "**1.Generate two tuples to represent two distinct points in space. (Three dimensional geometry). Determine the Euclidean distance between the two.**"
   ]
  },
  {
   "cell_type": "code",
   "execution_count": 1,
   "id": "dd98b34f-7722-4408-aa1a-6b14d9cffb04",
   "metadata": {},
   "outputs": [
    {
     "name": "stdin",
     "output_type": "stream",
     "text": [
      "Enter coordinates of first point (x1 y1 z1):  3 7 11\n",
      "Enter coordinates of second point (x2 y2 z2):  4 8 12\n"
     ]
    },
    {
     "name": "stdout",
     "output_type": "stream",
     "text": [
      "\n",
      "Euclidean distance between the points: 1.7320508075688772\n"
     ]
    }
   ],
   "source": [
    "import math\n",
    "\n",
    "# Input two points (x1, y1, z1) and (x2, y2, z2)\n",
    "x1, y1, z1 = map(int, input(\"Enter coordinates of first point (x1 y1 z1): \").split())\n",
    "x2, y2, z2 = map(int, input(\"Enter coordinates of second point (x2 y2 z2): \").split())\n",
    "\n",
    "# Calculate Euclidean distance\n",
    "distance = math.sqrt((x2 - x1)**2 + (y2 - y1)**2 + (z2 - z1)**2)\n",
    "\n",
    "print(f\"\\nEuclidean distance between the points: {distance}\")"
   ]
  },
  {
   "cell_type": "markdown",
   "id": "48260bda-1dc9-4697-a4a4-3d5f7adc69e1",
   "metadata": {},
   "source": [
    "###\n",
    "**2.Enter the coordinates of two points on the cartesian plane (take user input using comprehension). Find the equation of the straight line passing through these points.**\n",
    "**Hint: Eqn is (x-x1) = ((x1-x2)/(y1-y2)) (y-y1)**\n"
   ]
  },
  {
   "cell_type": "code",
   "execution_count": 4,
   "id": "6e0b16ce-5537-4ae9-af99-3ec3cd5defdf",
   "metadata": {},
   "outputs": [
    {
     "name": "stdin",
     "output_type": "stream",
     "text": [
      "Enter coordinates of point 1 (x1 y1):  6 -11\n",
      "Enter coordinates of point 2 (x2 y2):  14 -15\n"
     ]
    },
    {
     "name": "stdout",
     "output_type": "stream",
     "text": [
      "Slope of line: -2.0\n",
      "The equation of the line is: (x - 6) = -2.0 * (y - -11)\n"
     ]
    }
   ],
   "source": [
    "# Input coordinates using list comprehension\n",
    "x1, y1 = [int(i) for i in input(\"Enter coordinates of point 1 (x1 y1): \").split()]\n",
    "x2, y2 = [int(i) for i in input(\"Enter coordinates of point 2 (x2 y2): \").split()]\n",
    "\n",
    "# Calculate the slope (m) = (x1 - x2) / (y1 - y2)\n",
    "# Equation is (x - x1) = ((x1 - x2) / (y1 - y2)) * (y - y1)\n",
    "if y1 == y2:  # Check if the line is horizontal (y1 == y2)\n",
    "    print(f\"The line is horizontal: y = {y1}\")\n",
    "else:\n",
    "    slope = (x1 - x2) / (y1 - y2)\n",
    "    # Output the equation\n",
    "    print(\"Slope of line:\",slope)\n",
    "    print(f\"The equation of the line is: (x - {x1}) = {slope} * (y - {y1})\")\n"
   ]
  },
  {
   "cell_type": "markdown",
   "id": "3040f119-1458-4102-b5b2-d68e2926d182",
   "metadata": {},
   "source": [
    "###\n",
    "**3. WAP to count the number of each character present in a string using the concept of a dictionary.**"
   ]
  },
  {
   "cell_type": "code",
   "execution_count": 6,
   "id": "a806cb77-c38b-4395-8c03-d4bf97020d05",
   "metadata": {},
   "outputs": [
    {
     "name": "stdin",
     "output_type": "stream",
     "text": [
      "Enter a string:  Genshin Impact is a 2020 action role-playing video game produced by MiHoYo/HoYoverse.\n"
     ]
    },
    {
     "name": "stdout",
     "output_type": "stream",
     "text": [
      "Character counts: {'g': 3, 'e': 7, 'n': 4, 's': 3, 'h': 3, 'i': 7, ' ': 11, 'm': 3, 'p': 3, 'a': 5, 'c': 3, 't': 2, '2': 2, '0': 2, 'o': 8, 'r': 3, 'l': 2, '-': 1, 'y': 4, 'v': 2, 'd': 3, 'u': 1, 'b': 1, '/': 1, '.': 1}\n"
     ]
    }
   ],
   "source": [
    "# Input a string from the user\n",
    "input_string = input(\"Enter a string: \")\n",
    "input_string=input_string.lower()\n",
    "# Count characters using a dictionary\n",
    "char_count = {}\n",
    "for char in input_string:\n",
    "    if char in char_count:\n",
    "        char_count[char] += 1\n",
    "    else:\n",
    "        char_count[char] = 1\n",
    "\n",
    "# Print character count\n",
    "print(\"Character counts:\", char_count)\n"
   ]
  },
  {
   "cell_type": "markdown",
   "id": "d221a88c-0d11-43fc-8390-995d137d2f0b",
   "metadata": {},
   "source": [
    "###\n",
    "**4.Enter three lists using list comprehension: Customer name, Customer ID, and shopping points. Construct a list of tuples with and without using built-in function zip().**\n",
    "###\n",
    "**5.Sort the list of tuples constructed above with and without sorted function.**"
   ]
  },
  {
   "cell_type": "code",
   "execution_count": 7,
   "id": "bdbae6ee-e5a6-40a0-84d5-f449d1492325",
   "metadata": {},
   "outputs": [
    {
     "name": "stdin",
     "output_type": "stream",
     "text": [
      "Enter customer names separated by space:  Rohan Amisha Rahul \n",
      "Enter customer IDs separated by space:  201 205 410\n",
      "Enter shopping points separated by space:  250 300 350\n"
     ]
    },
    {
     "name": "stdout",
     "output_type": "stream",
     "text": [
      "List of tuples using zip(): [('Rohan', '201', 250), ('Amisha', '205', 300), ('Rahul', '410', 350)]\n",
      "List of tuples without using zip(): [('Rohan', '201', 250), ('Amisha', '205', 300), ('Rahul', '410', 350)]\n",
      "Sorted list using sorted(): [('Rohan', '201', 250), ('Amisha', '205', 300), ('Rahul', '410', 350)]\n",
      "Sorted list without using sorted(): [('Rohan', '201', 250), ('Amisha', '205', 300), ('Rahul', '410', 350)]\n"
     ]
    }
   ],
   "source": [
    "\n",
    "\n",
    "# Part 1: Constructing lists of customer information\n",
    "customer_names = [name for name in input(\"Enter customer names separated by space: \").split()]\n",
    "customer_ids = [customer_id for customer_id in input(\"Enter customer IDs separated by space: \").split()]\n",
    "shopping_points = [int(points) for points in input(\"Enter shopping points separated by space: \").split()]\n",
    "\n",
    "# Constructing the list of tuples using zip()\n",
    "tuples_with_zip = [(name, cid, points) for name, cid, points in zip(customer_names, customer_ids, shopping_points)]\n",
    "print(\"List of tuples using zip():\", tuples_with_zip)\n",
    "\n",
    "# Constructing the list of tuples without using zip()\n",
    "tuples_without_zip = [(customer_names[i], customer_ids[i], shopping_points[i]) for i in range(len(customer_names))]\n",
    "print(\"List of tuples without using zip():\", tuples_without_zip)\n",
    "\n",
    "# Part 2: Sorting the list of tuples\n",
    "# Sorting the list of tuples using sorted()\n",
    "sorted_tuples = sorted(tuples_with_zip, key=lambda x: x[2])  # Sorting by shopping points\n",
    "print(\"Sorted list using sorted():\", sorted_tuples)\n",
    "\n",
    "# Sorting the list of tuples manually without using sorted()\n",
    "for i in range(len(tuples_without_zip)):\n",
    "    for j in range(i + 1, len(tuples_without_zip)):\n",
    "        if tuples_without_zip[i][2] > tuples_without_zip[j][2]:  # Sorting by shopping points\n",
    "            tuples_without_zip[i], tuples_without_zip[j] = tuples_without_zip[j], tuples_without_zip[i]\n",
    "print(\"Sorted list without using sorted():\", tuples_without_zip)\n"
   ]
  }
 ],
 "metadata": {
  "kernelspec": {
   "display_name": "Python 3 (ipykernel)",
   "language": "python",
   "name": "python3"
  },
  "language_info": {
   "codemirror_mode": {
    "name": "ipython",
    "version": 3
   },
   "file_extension": ".py",
   "mimetype": "text/x-python",
   "name": "python",
   "nbconvert_exporter": "python",
   "pygments_lexer": "ipython3",
   "version": "3.12.5"
  }
 },
 "nbformat": 4,
 "nbformat_minor": 5
}
