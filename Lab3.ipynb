{
 "cells": [
  {
   "cell_type": "markdown",
   "id": "0faa038d-583e-47db-a420-c2ec3951688b",
   "metadata": {},
   "source": [
    "**1. Problem Statement:\n",
    "Write a Python script to find the squares of the first `n` natural numbers. Display both the number and the square using a `while` loop.**\n",
    "\n",
    "\n"
   ]
  },
  {
   "cell_type": "code",
   "execution_count": 1,
   "id": "8026be72-b8aa-45d6-b41e-d445bcf7ef40",
   "metadata": {},
   "outputs": [
    {
     "name": "stdin",
     "output_type": "stream",
     "text": [
      "Enter a number n:  6\n"
     ]
    },
    {
     "name": "stdout",
     "output_type": "stream",
     "text": [
      "\n",
      "Number\tSquare\n",
      "1\t1\n",
      "2\t4\n",
      "3\t9\n",
      "4\t16\n",
      "5\t25\n",
      "6\t36\n"
     ]
    }
   ],
   "source": [
    "# Input for n\n",
    "n = int(input(\"Enter a number n: \"))\n",
    "\n",
    "# Initialize counter\n",
    "i = 1\n",
    "\n",
    "# While loop to calculate square of first n natural numbers\n",
    "print(\"\\nNumber\\tSquare\")\n",
    "while i <= n:\n",
    "    print(f\"{i}\\t{i**2}\")\n",
    "    i += 1\n"
   ]
  },
  {
   "cell_type": "markdown",
   "id": "dcf9d224-bfd2-4815-816b-e8a9e7801742",
   "metadata": {},
   "source": [
    "###\n",
    "**2.Write a python script to find the sum of the digits of the given number using a while loop. Display the number and the sum.**"
   ]
  },
  {
   "cell_type": "code",
   "execution_count": 2,
   "id": "bdc2b212-287f-4782-8789-48125cef3177",
   "metadata": {},
   "outputs": [
    {
     "name": "stdin",
     "output_type": "stream",
     "text": [
      "Enter a number to find the sum of its digits:  256\n"
     ]
    },
    {
     "name": "stdout",
     "output_type": "stream",
     "text": [
      "\n",
      "The sum of digits of 256 is: 13\n"
     ]
    }
   ],
   "source": [
    "# Input the number\n",
    "num = int(input(\"Enter a number to find the sum of its digits: \"))\n",
    "\n",
    "# Initialize sum\n",
    "sum_of_digits = 0\n",
    "\n",
    "# While loop to sum digits\n",
    "temp_num = num\n",
    "while temp_num > 0:\n",
    "    sum_of_digits += temp_num % 10\n",
    "    temp_num //= 10\n",
    "\n",
    "print(f\"\\nThe sum of digits of {num} is: {sum_of_digits}\")\n"
   ]
  },
  {
   "cell_type": "markdown",
   "id": "e54e2c8c-7a68-4d61-b53d-b0d7dd30f2ce",
   "metadata": {},
   "source": [
    "###\n",
    "**3.Write a python script to print the first n terms of the Fibonacci series using while loop**"
   ]
  },
  {
   "cell_type": "code",
   "execution_count": 3,
   "id": "353d703e-1c28-4e0d-82cf-87d3f7d11097",
   "metadata": {},
   "outputs": [
    {
     "name": "stdin",
     "output_type": "stream",
     "text": [
      "Enter the number of terms in Fibonacci series:  10\n"
     ]
    },
    {
     "name": "stdout",
     "output_type": "stream",
     "text": [
      "\n",
      "Fibonacci Series:\n",
      "0 1 1 2 3 5 8 13 21 34 "
     ]
    }
   ],
   "source": [
    "# Input for number of terms\n",
    "n = int(input(\"Enter the number of terms in Fibonacci series: \"))\n",
    "\n",
    "# Initialize first two Fibonacci numbers\n",
    "a, b = 0, 1\n",
    "count = 0\n",
    "\n",
    "print(\"\\nFibonacci Series:\")\n",
    "while count < n:\n",
    "    print(a, end=\" \")\n",
    "    a, b = b, a + b\n",
    "    count += 1\n"
   ]
  },
  {
   "cell_type": "markdown",
   "id": "caad2721-b93c-403b-8cb5-fa0c39e62b8d",
   "metadata": {},
   "source": [
    "###\n",
    "**4.Write a python script to print the multiplication table of a given number up to the specified limit using a for loop.**"
   ]
  },
  {
   "cell_type": "code",
   "execution_count": 4,
   "id": "aa1a0f8c-34a7-406d-92f1-c630920ebb8f",
   "metadata": {},
   "outputs": [
    {
     "name": "stdin",
     "output_type": "stream",
     "text": [
      "Enter the number for which multiplication table is needed:  13\n",
      "Enter the limit for the multiplication table:  15\n"
     ]
    },
    {
     "name": "stdout",
     "output_type": "stream",
     "text": [
      "\n",
      "Multiplication table of 13:\n",
      "13 x 1 = 13\n",
      "13 x 2 = 26\n",
      "13 x 3 = 39\n",
      "13 x 4 = 52\n",
      "13 x 5 = 65\n",
      "13 x 6 = 78\n",
      "13 x 7 = 91\n",
      "13 x 8 = 104\n",
      "13 x 9 = 117\n",
      "13 x 10 = 130\n",
      "13 x 11 = 143\n",
      "13 x 12 = 156\n",
      "13 x 13 = 169\n",
      "13 x 14 = 182\n",
      "13 x 15 = 195\n"
     ]
    }
   ],
   "source": [
    "# Input the number and limit\n",
    "num = int(input(\"Enter the number for which multiplication table is needed: \"))\n",
    "limit = int(input(\"Enter the limit for the multiplication table: \"))\n",
    "\n",
    "# Print multiplication table\n",
    "print(f\"\\nMultiplication table of {num}:\")\n",
    "for i in range(1, limit + 1):\n",
    "    print(f\"{num} x {i} = {num * i}\")\n"
   ]
  },
  {
   "cell_type": "markdown",
   "id": "b5649454-4761-4ab4-8935-a05d926c64bf",
   "metadata": {},
   "source": [
    "###\n",
    "**5. Write a python script to check whether all the characters present in a string are alphanumeric (uppercase letters, lowercase letters or digits) using for. Print True if all characters are alphanumeric. Otherwise print False.**"
   ]
  },
  {
   "cell_type": "code",
   "execution_count": 6,
   "id": "ddf092e5-86e6-4faf-98f6-4364ebf72ae1",
   "metadata": {},
   "outputs": [
    {
     "name": "stdin",
     "output_type": "stream",
     "text": [
      "Enter a string to check if all characters are alphanumeric:  Jack is no1 character\n"
     ]
    },
    {
     "name": "stdout",
     "output_type": "stream",
     "text": [
      "\n",
      "All characters are alphanumeric.\n"
     ]
    }
   ],
   "source": [
    "# Input the string\n",
    "input_str = input(\"Enter a string to check if all characters are alphanumeric: \")\n",
    "\n",
    "# Check if all characters are alphanumeric\n",
    "is_alphanumeric = False\n",
    "for char in input_str:\n",
    "    if char.isalnum():\n",
    "        is_alphanumeric = True\n",
    "        break\n",
    "\n",
    "if is_alphanumeric:\n",
    "    print(\"\\nAll characters are alphanumeric.\")\n",
    "else:\n",
    "    print(\"\\nNot all characters are alphanumeric.\")\n"
   ]
  },
  {
   "cell_type": "markdown",
   "id": "4a3df6f3-aad7-486d-a5c2-c07ef335ab4f",
   "metadata": {},
   "source": [
    "###\n",
    "**6. Write a python script to find the number of occurrences of a particular character present in the given string using a loop. (Don’t use string methods).**"
   ]
  },
  {
   "cell_type": "code",
   "execution_count": 7,
   "id": "2a7f5059-b814-4b3a-8d77-291870d40f2c",
   "metadata": {},
   "outputs": [
    {
     "name": "stdin",
     "output_type": "stream",
     "text": [
      "Enter a string:  a group of words that work together in a sentence but doesn't contain a verb or subject\n",
      "Enter the character to count:  a\n"
     ]
    },
    {
     "name": "stdout",
     "output_type": "stream",
     "text": [
      "\n",
      "The character 'a' occurs 5 times in the string.\n"
     ]
    }
   ],
   "source": [
    "# Input the string and character\n",
    "input_str = input(\"Enter a string: \")\n",
    "char_to_count = input(\"Enter the character to count: \")\n",
    "\n",
    "# Initialize counter\n",
    "count = 0\n",
    "\n",
    "# Loop through the string to count occurrences\n",
    "for char in input_str:\n",
    "    if char == char_to_count:\n",
    "        count += 1\n",
    "\n",
    "print(f\"\\nThe character '{char_to_count}' occurs {count} times in the string.\")\n"
   ]
  },
  {
   "cell_type": "code",
   "execution_count": null,
   "id": "4224ddc4-a8e6-4ef8-bd08-8aa34c9bf4b9",
   "metadata": {},
   "outputs": [],
   "source": []
  }
 ],
 "metadata": {
  "kernelspec": {
   "display_name": "Python 3 (ipykernel)",
   "language": "python",
   "name": "python3"
  },
  "language_info": {
   "codemirror_mode": {
    "name": "ipython",
    "version": 3
   },
   "file_extension": ".py",
   "mimetype": "text/x-python",
   "name": "python",
   "nbconvert_exporter": "python",
   "pygments_lexer": "ipython3",
   "version": "3.12.5"
  }
 },
 "nbformat": 4,
 "nbformat_minor": 5
}
