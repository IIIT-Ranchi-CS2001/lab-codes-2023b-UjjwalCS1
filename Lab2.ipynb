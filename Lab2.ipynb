{
 "cells": [
  {
   "cell_type": "markdown",
   "id": "a6f762ab-5151-4d01-83b7-7ec656fe744f",
   "metadata": {},
   "source": [
    "**1. If the given string S1= “Maha Bharat”, generate the following strings by manipulating S1.**\n",
    "\n",
    "- **mAHA bHARAT**\n",
    "- **Bharat**\n",
    "- **BharatBharatBharat**\n",
    "- **Mera Bharat**\n",
    "- **Mera Bharat Mahan**"
   ]
  },
  {
   "cell_type": "code",
   "execution_count": 1,
   "id": "67384b1a-3f4e-4cc7-97c7-5a5ea614acf7",
   "metadata": {},
   "outputs": [
    {
     "name": "stdout",
     "output_type": "stream",
     "text": [
      "mAHA bHARAT\n",
      "Bharat\n",
      "BharatBharatBharat\n",
      "Mera Bharat\n",
      "Mera Bharat Mahan\n"
     ]
    }
   ],
   "source": [
    "S=\"Maha Bharat\"\n",
    "\n",
    "a=S[:1].lower()+S[1:5].upper()+S[5:6].lower()+S[6:].upper()\n",
    "print(a)\n",
    "b=S[5:]\n",
    "print(b)\n",
    "c=b*3\n",
    "print(c)\n",
    "d=\"Mera \"+b\n",
    "print(d)\n",
    "e=d+\" Mahan\"\n",
    "print(e)"
   ]
  },
  {
   "cell_type": "markdown",
   "id": "aa376838-5625-47f7-9a8e-3efd399fe326",
   "metadata": {},
   "source": [
    "###\n",
    "2.For the given string **S = \"Ba Ba Black Sheep\"**, determine the following using built-in functions:\n",
    "\n",
    "1. **The length of the string S**  \n",
    "2. **The first occurrence of the letter 'e'**  \n",
    "3. **The total number of occurrences of 'a'**  \n",
    "4. **Generate \"Ta Ta Black Sheep\"**  \n"
   ]
  },
  {
   "cell_type": "code",
   "execution_count": 6,
   "id": "497dbba9-dbf7-4e9c-84d2-9624cbbd24be",
   "metadata": {
    "scrolled": true
   },
   "outputs": [
    {
     "name": "stdout",
     "output_type": "stream",
     "text": [
      "\n",
      "Results:\n",
      "Length of string: 17\n",
      "First occurrence of 'e': 14\n",
      "Total occurrences of 'a': 3\n",
      "Modified string: Ta Ta Black Sheep\n"
     ]
    }
   ],
   "source": [
    "S = \"Ba Ba Black Sheep\"\n",
    "\n",
    "# Length of the string\n",
    "length = len(S)\n",
    "\n",
    "# First occurrence of 'e'\n",
    "first_e = S.find('e')\n",
    "\n",
    "# Total occurrences of 'a'\n",
    "count_a = S.count('a')\n",
    "\n",
    "# Generate the modified string\n",
    "modified_str = S.replace(\"Ba\", \"Ta\")\n",
    "\n",
    "# Display results\n",
    "print(\"\\nResults:\")\n",
    "print(f\"Length of string: {length}\")\n",
    "print(f\"First occurrence of 'e': {first_e}\")\n",
    "print(f\"Total occurrences of 'a': {count_a}\")\n",
    "print(f\"Modified string: {modified_str}\")\n"
   ]
  },
  {
   "cell_type": "markdown",
   "id": "090ca6d1-9f71-4d36-949c-b410d91e86b9",
   "metadata": {},
   "source": [
    "###\n",
    "**3. Write a python script to enter any string at run time and check whether it is a palindrome or not.***"
   ]
  },
  {
   "cell_type": "code",
   "execution_count": 5,
   "id": "26bae8e5-7545-4226-aacc-338359887f2b",
   "metadata": {},
   "outputs": [
    {
     "name": "stdin",
     "output_type": "stream",
     "text": [
      "Enter a string to check if it's a palindrome:  naman\n"
     ]
    },
    {
     "name": "stdout",
     "output_type": "stream",
     "text": [
      "\n",
      "The string is a palindrome.\n"
     ]
    }
   ],
   "source": [
    "# Take user input for the string\n",
    "input_str = input(\"Enter a string to check if it's a palindrome: \")\n",
    "\n",
    "# Check if the string is equal to its reverse\n",
    "if input_str == input_str[::-1]:\n",
    "    print(\"\\nThe string is a palindrome.\")\n",
    "else:\n",
    "    print(\"\\nThe string is not a palindrome.\")\n"
   ]
  },
  {
   "cell_type": "markdown",
   "id": "a4ea51ff-591e-4b01-bcd9-03fa4803b1e0",
   "metadata": {},
   "source": [
    "### \n",
    "### 4.Problem Statement:\n",
    "\n",
    "Enter the following details of a student at runtime:  \n",
    "- **Name**  \n",
    "- **Roll Number**  \n",
    "- **Marks secured for Mathematics Examination** (out of 100).  \n",
    "\n",
    "Write a Python script to display student details as shown:  \n",
    "\n",
    "---\n",
    "\n",
    "### Criteria for Grade Point and Remarks:\n",
    "\n",
    "| **S. No.** | **Range of Marks**       | **Grade Point** | **Remark**       |\n",
    "|------------|--------------------------|-----------------|------------------|\n",
    "| 1          | >= 90                    | 10              | OUTSTANDING      |\n",
    "| 2          | 90 > Marks >= 80         | 9               | VERY GOOD        |\n",
    "| 3          | 80 > Marks >= 70         | 8               | GOOD             |\n",
    "| 4          | 70 > Marks >= 60         | 7               | AVERAGE          |\n",
    "| 5          | 60 > Marks >= 50         | 6               | PASS             |\n",
    "| 6          | Marks < 50               | 0               | FAIL             |\n",
    "\n",
    "---\n",
    "\n",
    "\n",
    "\n",
    "\n"
   ]
  },
  {
   "cell_type": "code",
   "execution_count": 8,
   "id": "d62c0d26-5eb2-4d48-aa4f-0d9a7b52cec9",
   "metadata": {},
   "outputs": [
    {
     "name": "stdin",
     "output_type": "stream",
     "text": [
      "Enter the student's name:  Ujjwal\n",
      "Enter the student's roll number:  1103\n",
      "Enter the marks secured (out of 100):  78\n"
     ]
    },
    {
     "name": "stdout",
     "output_type": "stream",
     "text": [
      "\n",
      "Student Details:\n",
      "Name: Ujjwal\n",
      "Roll Number: 1103\n",
      "Marks: 78.0\n",
      "Grade Point: 8\n",
      "Remark: GOOD\n"
     ]
    }
   ],
   "source": [
    "# Input details\n",
    "name = input(\"Enter the student's name: \")\n",
    "roll_number = input(\"Enter the student's roll number: \")\n",
    "marks = float(input(\"Enter the marks secured (out of 100): \"))\n",
    "\n",
    "# Determine grade and remark based on marks\n",
    "if marks >= 90:\n",
    "    grade_point = 10\n",
    "    remark = \"OUTSTANDING\"\n",
    "elif marks >= 80:\n",
    "    grade_point = 9\n",
    "    remark = \"VERY GOOD\"\n",
    "elif marks >= 70:\n",
    "    grade_point = 8\n",
    "    remark = \"GOOD\"\n",
    "elif marks >= 60:\n",
    "    grade_point = 7\n",
    "    remark = \"AVERAGE\"\n",
    "elif marks >= 50:\n",
    "    grade_point = 6\n",
    "    remark = \"PASS\"\n",
    "else:\n",
    "    grade_point = 0\n",
    "    remark = \"FAIL\"\n",
    "\n",
    "# Display student details\n",
    "print(\"\\nStudent Details:\")\n",
    "print(f\"Name: {name}\")\n",
    "print(f\"Roll Number: {roll_number}\")\n",
    "print(f\"Marks: {marks}\")\n",
    "print(f\"Grade Point: {grade_point}\")\n",
    "print(f\"Remark: {remark}\")\n"
   ]
  },
  {
   "cell_type": "markdown",
   "id": "52628748-196f-421f-89b7-ccf5b7a158a7",
   "metadata": {},
   "source": [
    "#\n",
    "5. Problem Statement:\n",
    "\n",
    "Write a Python program to find the roots of a quadratic equation when the coefficients `a`, `b`, and `c` are given.  \n",
    "The equation is of the form:\n",
    "- **a, b, c** are the coefficients of the quadratic equation (integers).\n",
    "- The discriminant `d = b² - 4ac` is calculated to determine the nature of the roots:\n",
    "    - If **d = 0**, the equation has **one real repeated root**:  \n",
    "      `R1 = R2 = -b / (2a)`\n",
    "    - If **d > 0**, the equation has **two distinct real roots**:  \n",
    "      `R1 = (-b + sqrt(d)) / (2a)`  \n",
    "      `R2 = (-b - sqrt(d)) / (2a)`\n",
    "    - If **d < 0**, the equation has **two complex roots**:  \n",
    "      `real_part = -b / (2a)`  \n",
    "      `imaginary_part = sqrt(-d) / (2a)`\n"
   ]
  },
  {
   "cell_type": "code",
   "execution_count": 9,
   "id": "56c2bda8-a53f-48e3-a440-28578c7ac9fd",
   "metadata": {},
   "outputs": [
    {
     "name": "stdin",
     "output_type": "stream",
     "text": [
      "Enter coefficient a:  4\n",
      "Enter coefficient b:  3\n",
      "Enter coefficient c:  6\n"
     ]
    },
    {
     "name": "stdout",
     "output_type": "stream",
     "text": [
      "\n",
      "The equation has complex roots.\n",
      "Real Part: -0.375\n",
      "Imaginary Part: 1.165922381636102\n"
     ]
    }
   ],
   "source": [
    "import math\n",
    "\n",
    "# Input coefficients of the quadratic equation\n",
    "a = int(input(\"Enter coefficient a: \"))\n",
    "b = int(input(\"Enter coefficient b: \"))\n",
    "c = int(input(\"Enter coefficient c: \"))\n",
    "\n",
    "# Calculate discriminant\n",
    "D= b**2 - 4 * a * c\n",
    "\n",
    "# Check nature of roots\n",
    "if D > 0:\n",
    "    # Two distinct real roots\n",
    "    root1 = (-b + math.sqrt(D)) / (2 * a)\n",
    "    root2 = (-b - math.sqrt(D)) / (2 * a)\n",
    "    print(\"\\nThe roots are real and distinct.\")\n",
    "    print(f\"Root 1: {root1}\")\n",
    "    print(f\"Root 2: {root2}\")\n",
    "elif D == 0:\n",
    "    # One real repeated root\n",
    "    root = -b / (2 * a)\n",
    "    print(\"\\nThe equation has one real repeated root.\")\n",
    "    print(f\"Root: {root}\")\n",
    "else:\n",
    "    # Complex roots\n",
    "    real_part = -b / (2 * a)\n",
    "    imaginary_part = math.sqrt(-D) / (2 * a)\n",
    "    print(\"\\nThe equation has complex roots.\")\n",
    "    print(f\"Real Part: {real_part}\")\n",
    "    print(f\"Imaginary Part: {imaginary_part}\")\n"
   ]
  }
 ],
 "metadata": {
  "kernelspec": {
   "display_name": "Python 3 (ipykernel)",
   "language": "python",
   "name": "python3"
  },
  "language_info": {
   "codemirror_mode": {
    "name": "ipython",
    "version": 3
   },
   "file_extension": ".py",
   "mimetype": "text/x-python",
   "name": "python",
   "nbconvert_exporter": "python",
   "pygments_lexer": "ipython3",
   "version": "3.12.5"
  }
 },
 "nbformat": 4,
 "nbformat_minor": 5
}
